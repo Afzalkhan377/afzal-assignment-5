{
 "cells": [
  {
   "cell_type": "code",
   "execution_count": 46,
   "metadata": {
    "id": "lqdQH3Gi50JP"
   },
   "outputs": [],
   "source": [
    "import numpy as np\n",
    "import pandas as pd"
   ]
  },
  {
   "cell_type": "code",
   "execution_count": 47,
   "metadata": {
    "id": "wVauprZs9a22"
   },
   "outputs": [],
   "source": [
    "class KNN:\n",
    "    def __init__(self, k=3, distance_metric='euclidean'):\n",
    "        self.k = k\n",
    "        self.distance_metric = distance_metric\n",
    "\n",
    "    def fit(self, X, y):\n",
    "        self.X_train = X\n",
    "        self.y_train = y\n",
    "\n",
    "    def compute_distance(self, X1, X2):\n",
    "        if self.distance_metric == 'euclidean':\n",
    "            return np.linalg.norm(X2 - X1, axis=1)\n",
    "        elif self.distance_metric == 'manhattan':\n",
    "            return np.sum(np.abs(X2 - X1), axis=1)\n",
    "        else:\n",
    "            raise ValueError(\"Invalid distance metric\")\n",
    "\n",
    "    def predict(self, X):\n",
    "        return np.apply_along_axis(self.pred, 1, X.values)\n",
    "\n",
    "    def pred(self, x):\n",
    "        distances = self.compute_distance(x, self.X_train.values)\n",
    "        k_indices = np.argpartition(distances, self.k)[:self.k]\n",
    "        k_nearest_labels = self.y_train.iloc[k_indices].values\n",
    "        k_nearest_distances = distances[k_indices]\n",
    "\n",
    "        # Weighted average with inverse distance\n",
    "        weights = 1 / (k_nearest_distances + 1e-5)\n",
    "        weighted_average = np.dot(k_nearest_labels, weights) / np.sum(weights)\n",
    "\n",
    "        return weighted_average\n"
   ]
  },
  {
   "cell_type": "code",
   "execution_count": 48,
   "metadata": {
    "id": "Z8cFq9Qw9VmI"
   },
   "outputs": [],
   "source": [
    "\n",
    "def preprocess_data(train_path, test_path):\n",
    "    train_data = pd.read_csv(train_path)\n",
    "    test_data = pd.read_csv(test_path)\n",
    "\n",
    "    # Combining training and test data for consistent preprocessing\n",
    "    combined_data = pd.concat([train_data, test_data], axis=0, ignore_index=True)\n",
    "\n",
    "    # One-hot encoding for categorical variables\n",
    "    combined_data = pd.get_dummies(combined_data, columns=['Geography', 'Gender'], drop_first=True)\n",
    "\n",
    "    # Select features\n",
    "    features = ['CreditScore', 'Age', 'Tenure', 'Balance', 'NumOfProducts', 'HasCrCard', 'IsActiveMember', 'EstimatedSalary'] + \\\n",
    "               [col for col in combined_data.columns if col.startswith('Geography_') or col.startswith('Gender_')]\n",
    "\n",
    "    # Normalizing the selected features\n",
    "    combined_data[features] = (combined_data[features] - combined_data[features].mean()) / combined_data[features].std()\n",
    "\n",
    "    # Splitting the combined data back into training and test sets\n",
    "    X_train = combined_data.loc[:len(train_data)-1, features]\n",
    "    y_train = train_data['Exited']\n",
    "    X_test = combined_data.loc[len(train_data):, features]\n",
    "\n",
    "    return X_train, y_train, X_test\n",
    "\n"
   ]
  },
  {
   "cell_type": "code",
   "execution_count": 49,
   "metadata": {
    "id": "BjfJ_hab9Q-B"
   },
   "outputs": [],
   "source": [
    "\n",
    "def stratified_cross_validate(X, y, knn, n_splits=5):\n",
    "    np.random.seed(42)\n",
    "    indices = np.arange(len(X))\n",
    "    np.random.shuffle(indices)\n",
    "    \n",
    "    fold_sizes = np.full(n_splits, len(X) // n_splits)\n",
    "    fold_sizes[:len(X) % n_splits] += 1\n",
    "    current = 0\n",
    "    scores = []\n",
    "    \n",
    "    for fold_size in fold_sizes:\n",
    "        start, stop = current, current + fold_size\n",
    "        val_indices = indices[start:stop]\n",
    "        train_indices = np.concatenate([indices[:start], indices[stop:]])\n",
    "        \n",
    "        X_train, X_val = X.iloc[train_indices], X.iloc[val_indices]\n",
    "        y_train, y_val = y.iloc[train_indices], y.iloc[val_indices]\n",
    "        \n",
    "        knn.fit(X_train, y_train)\n",
    "        y_est_prob = knn.predict(X_val)\n",
    "        score = auc_score(y_val, y_est_prob)\n",
    "        scores.append(score)\n",
    "        \n",
    "        current = stop\n",
    "\n",
    "    return scores\n",
    "\n",
    "def auc_score(y_true, y_est_prob):\n",
    "    positive_indices = np.where(y_true == 1)[0]\n",
    "    negative_indices = np.where(y_true == 0)[0]\n",
    "\n",
    "    if len(positive_indices) == 0 or len(negative_indices) == 0:\n",
    "        return 0.5\n",
    "\n",
    "    positive_predictions = y_est_prob[positive_indices]\n",
    "    negative_predictions = y_est_prob[negative_indices]\n",
    "\n",
    "    correct_order = np.sum(positive_predictions[:, None] > negative_predictions)\n",
    "    return correct_order / (len(positive_indices) * len(negative_indices))\n"
   ]
  },
  {
   "cell_type": "code",
   "execution_count": 50,
   "metadata": {
    "colab": {
     "base_uri": "https://localhost:8080/"
    },
    "id": "yNR9J16Z7vgz",
    "outputId": "2ce10f22-4618-4612-9d64-e90afe2366e7"
   },
   "outputs": [
    {
     "name": "stdout",
     "output_type": "stream",
     "text": [
      "Cross-validation scores: [np.float64(0.8032009591733709), np.float64(0.8433986175115208), np.float64(0.8328572068940737), np.float64(0.8091054838880926), np.float64(0.8451011270566188)]\n",
      "Mean ROC AUC score: 0.8267326789047352\n",
      "Best parameters: {'k': 17, 'distance_metric': 'manhattan'}\n",
      "Best ROC AUC score: 0.894169322530578\n"
     ]
    }
   ],
   "source": [
    "X_train, y_train, X_test = preprocess_data('train.csv', 'test.csv')\n",
    "\n",
    "# Create and evaluate the model\n",
    "knn = KNN(k=5, distance_metric='euclidean')\n",
    "\n",
    "# Perform cross-validation\n",
    "cv_scores = stratified_cross_validate(X_train, y_train, knn)\n",
    "\n",
    "print(\"Cross-validation scores:\", cv_scores)\n",
    "print(\"Mean ROC AUC score:\", np.mean(cv_scores))\n",
    "\n",
    "# Hyperparameter tuning\n",
    "k_values = [3, 5, 7, 9, 11, 13,15,17]\n",
    "distance_metrics = ['euclidean', 'manhattan']\n",
    "best_score = 0\n",
    "best_params = {}\n",
    "\n",
    "for k in k_values:\n",
    "    for metric in distance_metrics:\n",
    "        knn = KNN(k=k, distance_metric=metric)\n",
    "        scores = stratified_cross_validate(X_train, y_train, knn)\n",
    "        mean_score = np.mean(scores)\n",
    "\n",
    "        if mean_score > best_score:\n",
    "            best_score = mean_score\n",
    "            best_params = {'k': k, 'distance_metric': metric}\n",
    "\n",
    "print(\"Best parameters:\", best_params)\n",
    "print(\"Best ROC AUC score:\", best_score)\n",
    "\n",
    "# Train on the full dataset with optimal hyperparameters and make predictions on the test set\n",
    "best_knn = KNN(**best_params)\n",
    "best_knn.fit(X_train, y_train)\n",
    "test_predictions = best_knn.predict(X_test)\n",
    "rounded_predictions = np.round(test_predictions, 2)\n",
    "\n",
    "# Save the predictions\n",
    "pd.DataFrame({'id': pd.read_csv('test.csv')['id'], 'Exited': rounded_predictions.ravel()}).to_csv('submissions.csv', index=False)"
   ]
  },
  {
   "cell_type": "code",
   "execution_count": null,
   "metadata": {},
   "outputs": [],
   "source": []
  }
 ],
 "metadata": {
  "colab": {
   "provenance": []
  },
  "kernelspec": {
   "display_name": "Python 3 (ipykernel)",
   "language": "python",
   "name": "python3"
  },
  "language_info": {
   "codemirror_mode": {
    "name": "ipython",
    "version": 3
   },
   "file_extension": ".py",
   "mimetype": "text/x-python",
   "name": "python",
   "nbconvert_exporter": "python",
   "pygments_lexer": "ipython3",
   "version": "3.9.6"
  }
 },
 "nbformat": 4,
 "nbformat_minor": 4
}
